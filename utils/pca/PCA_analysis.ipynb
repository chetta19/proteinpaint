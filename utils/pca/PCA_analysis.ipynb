{
 "cells": [
  {
   "cell_type": "markdown",
   "id": "6dfcca07",
   "metadata": {},
   "source": [
    "# <center>PCA analysis</center>"
   ]
  },
  {
   "cell_type": "markdown",
   "id": "34c3973d",
   "metadata": {},
   "source": [
    "This page documents the PCA analysis for the following groups:<br>&nbsp;&nbsp;&nbsp;&nbsp; 1. All Africans <br>&nbsp;&nbsp;&nbsp;&nbsp; 2. All Europeans <br>&nbsp;&nbsp;&nbsp;&nbsp; 3. SJLIFE Europeans <br>&nbsp;&nbsp;&nbsp;&nbsp; 4. CCSS Europeans \n",
    "<p>Inputs<br>&nbsp;&nbsp;&nbsp;&nbsp;1. Informative SNPs used for PCA analysis.<br>&nbsp;&nbsp;&nbsp;&nbsp;&nbsp;&nbsp;&nbsp;&nbsp;Four columns:<br>&nbsp;&nbsp;&nbsp;&nbsp;&nbsp;&nbsp;&nbsp;&nbsp;&nbsp;&nbsp;&nbsp;&nbsp;1st column is SNP name<br>&nbsp;&nbsp;&nbsp;&nbsp;&nbsp;&nbsp;&nbsp;&nbsp;&nbsp;&nbsp;&nbsp;&nbsp;2nd column is chromosome<br>&nbsp;&nbsp;&nbsp;&nbsp;&nbsp;&nbsp;&nbsp;&nbsp;&nbsp;&nbsp;&nbsp;&nbsp;3rd column is genetic position (in Morgans).  If unknown, ok to set to 0.0<br>&nbsp;&nbsp;&nbsp;&nbsp;&nbsp;&nbsp;&nbsp;&nbsp;&nbsp;&nbsp;&nbsp;&nbsp;4th column is physical position (in bases)<br>&nbsp;&nbsp;&nbsp;&nbsp;&nbsp;&nbsp;&nbsp;&nbsp;&nbsp;&nbsp;&nbsp;&nbsp;Optional 5th and 6th columns are reference and variant alleles<br>&nbsp;&nbsp;&nbsp;&nbsp;&nbsp;&nbsp;&nbsp;&nbsp;<br>&nbsp;&nbsp;&nbsp;&nbsp;2. bcfDir (The directory where bcf files with GT are stored)<br>&nbsp;&nbsp;&nbsp;&nbsp;3. sample file under working directory for each of the following groups:<br>&nbsp;&nbsp;&nbsp;&nbsp;&nbsp;&nbsp;&nbsp;&nbsp;SJLIFE European (sample.ceu.sjlife.ind) <br>&nbsp;&nbsp;&nbsp;&nbsp;&nbsp;&nbsp;&nbsp;&nbsp;CCSS European (sample.ceu.ccss.ind)<br>&nbsp;&nbsp;&nbsp;&nbsp;&nbsp;&nbsp;&nbsp;&nbsp;ALL European (sample.ceu.sjlife.ccss.ind)<br>&nbsp;&nbsp;&nbsp;&nbsp;&nbsp;&nbsp;&nbsp;&nbsp;All Afrian (sample.ceu.sjlife.ccss.ind)<br>&nbsp;&nbsp;&nbsp;&nbsp;&nbsp;&nbsp;&nbsp;&nbsp;<font color = red>3 columns<br>&nbsp;&nbsp;&nbsp;&nbsp;&nbsp;&nbsp;&nbsp;&nbsp;&nbsp;&nbsp;&nbsp;&nbsp;1st column is sample ID<br>&nbsp;&nbsp;&nbsp;&nbsp;&nbsp;&nbsp;&nbsp;&nbsp;&nbsp;&nbsp;&nbsp;&nbsp;2nd column is gender (M or F).  If unknown, ok to set to U for Unknown<br>&nbsp;&nbsp;&nbsp;&nbsp;&nbsp;&nbsp;&nbsp;&nbsp;&nbsp;&nbsp;&nbsp;&nbsp;3rd column is a label which might refer to Case or Control status, or might be a population group label</font><br>&nbsp;&nbsp;&nbsp;&nbsp;4. sampleMasterFile (all samples in the same order as in bcf file)<p>Outputs<br>&nbsp;&nbsp;&nbsp;&nbsp;african.sjlife.ccss<br>&nbsp;&nbsp;&nbsp;&nbsp;european.ccss<br>&nbsp;&nbsp;&nbsp;&nbsp;european.sjlife<br>&nbsp;&nbsp;&nbsp;&nbsp;european.sjlife.ccss"
   ]
  },
  {
   "cell_type": "markdown",
   "id": "4be0fbf1",
   "metadata": {},
   "source": [
    "## 1. Software install and setup "
   ]
  },
  {
   "cell_type": "markdown",
   "id": "db6a2eb4",
   "metadata": {},
   "source": [
    "I. Follow the steps from https://github.com/DReichLab/EIG to install smartpca for PCA analysis.<br>II. Add EIG tools to your $PATH <br>&nbsp;&nbsp;&nbsp;&nbsp;<font color = red>Load openblas everytime before you start jupyter on hpc <br>&nbsp;&nbsp;&nbsp;&nbsp;module load openblas/dynamic/0.2.18</font>"
   ]
  },
  {
   "cell_type": "markdown",
   "id": "86847063",
   "metadata": {},
   "source": [
    "## 2. working directory and required file setup"
   ]
  },
  {
   "cell_type": "code",
   "execution_count": 5,
   "id": "10bebbe6",
   "metadata": {},
   "outputs": [
    {
     "name": "stdout",
     "output_type": "stream",
     "text": [
      "## smartpca version: 18140\n"
     ]
    }
   ],
   "source": [
    "import os,sys\n",
    "import subprocess as sp\n",
    "\n",
    "#working directory\n",
    "workingDir = '/research/rgs01/resgen/legacy/gb_customTracks/tp/jwang/TASK/survivorship/PCA2' #pragma: allowlist secret\n",
    "\n",
    "#Informative SNPs used for PCA analysis\n",
    "snpFile = 'pca.snp'\n",
    "\n",
    "#bcfDir (The directory where bcf files with GT are stored)\n",
    "bcfDir = '/research/rgs01/resgen/legacy/gb_customTracks/tp/files/hg38/sjlife/bcf/INFOGT/'\n",
    "\n",
    "#sample list files\n",
    "samplePops = {'ceu':\n",
    "              {\n",
    "                  'sjlife' : os.path.join(workingDir,'sample.ceu.sjlife.ind'),\n",
    "                  'ccss' : os.path.join(workingDir,'sample.ceu.ccss.ind'),\n",
    "                  'sjlife.ccss' : os.path.join(workingDir,'sample.ceu.sjlife.ccss.ind')\n",
    "              },\n",
    "              'yri': {'sjlife.ccss' : os.path.join(workingDir,'sample.yri.sjlife.ccss.ind')}\n",
    "             }\n",
    "samplePops = {'yri': {'sjlife.ccss' : os.path.join(workingDir,'sample.yri.sjlife.ccss.ind')}}\n",
    "\n",
    "#sampleMasterFile\n",
    "sampleMasterFile = '/research/rgs01/resgen/legacy/gb_customTracks/tp/jwang/TASK/survivorship/survivorship_portal_sample'\n",
    "\n",
    "#check if smartpca can be found from $PATH\n",
    "EIGCK = True\n",
    "ckrt = sp.run('smartpca',shell=True,stderr=sp.PIPE).stderr.decode('utf-8')\n",
    "if 'command not found' in ckrt:\n",
    "    EIGCK = False\n",
    "    print('smartpca can not be found from your $PATH')\n",
    "    sys.exit(1)\n",
    "#PCA output file\n",
    "PCAFile = {'ceu':\n",
    "              {\n",
    "                  'sjlife' : os.path.join(workingDir,'european.sjlife'),\n",
    "                  'ccss' : os.path.join(workingDir,'european.ccss'),\n",
    "                  'sjlife.ccss' : os.path.join(workingDir,'european.sjlife.ccss')\n",
    "              },\n",
    "              'yri': {'sjlife.ccss' : os.path.join(workingDir,'african.sjlife.ccss')}\n",
    "          }\n"
   ]
  },
  {
   "cell_type": "markdown",
   "id": "aef6870e",
   "metadata": {},
   "source": [
    "## 3. generate genotype file"
   ]
  },
  {
   "cell_type": "code",
   "execution_count": 2,
   "id": "69790bce",
   "metadata": {},
   "outputs": [
    {
     "name": "stderr",
     "output_type": "stream",
     "text": [
      "HPCF: WARNING! No Memory was requested!\n",
      "      A default memory request of 2.50 GB has been placed for this job\n",
      "      The job will be killed if   2.50 GB of memory is used\n",
      "HPCF: WARNING! No Memory was requested!\n",
      "      A default memory request of 2.50 GB has been placed for this job\n",
      "      The job will be killed if   2.50 GB of memory is used\n"
     ]
    },
    {
     "name": "stdout",
     "output_type": "stream",
     "text": [
      "Job <174250754> is submitted to queue <standard>.\n"
     ]
    }
   ],
   "source": [
    "import os,re\n",
    "import subprocess as sp\n",
    "\n",
    "if not os.path.isfile('pca.snp'):\n",
    "    print('Cound not find snp file: \"pca.snp\"')\n",
    "if not os.path.isfile('genotypeExtract.py'):\n",
    "    print('run \"Tools used for prs computing\" to create genotypeExtract.py')\n",
    "if not os.path.isfile('genotypeGen.py'):\n",
    "    print('run \"Tools used for prs computing\" to create genotypeGen.py')\n",
    "\n",
    "#extract genotype from bcf file   \n",
    "extGTJob = {}\n",
    "for p in samplePops:\n",
    "    for c in samplePops[p]:\n",
    "        samfile = samplePops[p][c]\n",
    "        extGTCommand = 'bsub -q standard'\n",
    "        extGTCommand += ' -eo ' + os.path.join(workingDir,p + '_' + c + '.extGT.elog')\n",
    "        extGTCommand += ' -oo ' + os.path.join(workingDir,p + '_' + c + '.extGT.log')\n",
    "        extGTCommand += ' python3 genotypeExtract.py'\n",
    "        #pca.snp\n",
    "        extGTCommand += ' pca.snp'\n",
    "        #sample\n",
    "        extGTCommand += ' ' + samfile\n",
    "        #bcf file dir\n",
    "        extGTCommand += ' ' + bcfDir\n",
    "        #sample master file\n",
    "        extGTCommand += ' ' + sampleMasterFile\n",
    "        #output file\n",
    "        extGTCommand += ' ' + samfile + '.gt'\n",
    "        jobRt = sp.run(extGTCommand, shell=True, stdout=sp.PIPE).stdout.decode('utf-8')\n",
    "        if not p in extGTJob:\n",
    "            extGTJob[p] = {}\n",
    "        extGTJob[p][c] = re.search('<(\\d+?)>',jobRt).group(1)\n",
    "\n",
    "#generate genotype file\n",
    "for p in samplePops:\n",
    "    for c in samplePops[p]:\n",
    "        samfile = samplePops[p][c]\n",
    "        genoCommand = 'bsub -q standard'\n",
    "        genoCommand += ' -eo ' + os.path.join(workingDir,p + '_' + c + '.geno.elog')\n",
    "        genoCommand += ' -oo ' + os.path.join(workingDir,p + '_' + c + '.geno.log')\n",
    "        genoCommand += ' -w \"done('+extGTJob[p][c]+')\"'\n",
    "        genoCommand += ' python3 genotypeGen.py'\n",
    "        #pca.snp\n",
    "        genoCommand += ' pca.snp'\n",
    "        #gt file\n",
    "        genoCommand += ' ' + samfile + '.gt'\n",
    "        #sample\n",
    "        genoCommand += ' ' + samfile\n",
    "        #output file\n",
    "        genoCommand += ' ' + samfile + '.geno'\n",
    "        os.system(genoCommand)\n",
    "\n",
    "        "
   ]
  },
  {
   "cell_type": "markdown",
   "id": "80a99fb5",
   "metadata": {},
   "source": [
    "## 4. run smartpca "
   ]
  },
  {
   "cell_type": "code",
   "execution_count": 3,
   "id": "8084c96c",
   "metadata": {},
   "outputs": [
    {
     "name": "stdout",
     "output_type": "stream",
     "text": [
      "Job <174273450> is submitted to queue <standard>.\n",
      "job submmited for PCA analysis: yri sjlife.ccss\n"
     ]
    }
   ],
   "source": [
    "import os,sys\n",
    "\n",
    "if not EIGCK:\n",
    "    print('smartpca can not be found from your $PATH')\n",
    "    sys.exit(1)\n",
    "    \n",
    "def OUTPAR(samf,snpf):\n",
    "    out = open(samf+'.pca.par','w')\n",
    "    out.write('genotypename: '+samf+'.geno\\n')\n",
    "    out.write('snpname: ' + snpf + '\\n')\n",
    "    out.write('indivname: ' + samf + '\\n')\n",
    "    out.write('evecoutname: ' + samf + '.pca.evec\\n')\n",
    "    out.write('evaloutname: ' + samf + '.eval\\n')\n",
    "    out.write('altnormstyle: NO\\nnumoutevec: 10\\nnumoutlieriter: 0\\nnumoutlierevec: 10\\noutliersigmathresh: 6\\nqtmode: 0\\n')\n",
    "    out.close()\n",
    "    return samf+'.pca.par'\n",
    "for p in samplePops:\n",
    "    for c in samplePops[p]:\n",
    "        samfile = samplePops[p][c]\n",
    "        parfile = OUTPAR(samfile,snpFile)\n",
    "        pcaCommand = 'bsub -q standard -R \"rusage[mem=20000]\"'\n",
    "        pcaCommand += ' -eo ' +samfile+'.pca.elog'\n",
    "        pcaCommand += ' -oo ' +samfile+'.pca.log'\n",
    "        pcaCommand += ' -J PCA_'+p+'_'+c\n",
    "        pcaCommand += ' smartpca -p '+parfile\n",
    "        os.system(pcaCommand)\n",
    "        print('job submmited for PCA analysis: '+p+' '+c)\n",
    "\n"
   ]
  },
  {
   "cell_type": "markdown",
   "id": "ac9e1f53",
   "metadata": {},
   "source": [
    "## 5. generate PCA file with integer sample ID"
   ]
  },
  {
   "cell_type": "code",
   "execution_count": 6,
   "id": "169177a6",
   "metadata": {},
   "outputs": [
    {
     "name": "stdout",
     "output_type": "stream",
     "text": [
      "Job <174336285> is submitted to queue <standard>.\n",
      "job submmited for generating PCA file: yri sjlife.ccss\n"
     ]
    }
   ],
   "source": [
    "import os\n",
    "\n",
    "if not os.path.isfile('genPCA.py'):\n",
    "    print('run \"Tools used for prs computing\" to create genPCA.py')\n",
    "\n",
    "for p in samplePops:\n",
    "    for c in samplePops[p]:\n",
    "        pcaReformCommand = 'bsub -q standard -R \"rusage[mem=20000]\"'\n",
    "        pcaReformCommand += ' -eo ' +samfile+'.pcaReform.elog'\n",
    "        pcaReformCommand += ' -oo ' +samfile+'.pcaReform.log'\n",
    "        pcaReformCommand += ' -J PCA_reform_'+p+'_'+c\n",
    "        #smartpca output\n",
    "        pcaReformCommand += ' python3 genPCA.py ' + samplePops[p][c]+'.pca.evec'\n",
    "        #PCA file\n",
    "        pcaReformCommand += ' ' + PCAFile[p][c]\n",
    "        #sample master file\n",
    "        pcaReformCommand += ' ' + sampleMasterFile\n",
    "        #bcf file directory\n",
    "        pcaReformCommand += ' ' + bcfDir\n",
    "        os.system(pcaReformCommand)\n",
    "        print('job submmited for generating PCA file: '+p+' '+c)"
   ]
  },
  {
   "cell_type": "markdown",
   "id": "0b934d04",
   "metadata": {},
   "source": [
    "## Tools used for prs computing"
   ]
  },
  {
   "cell_type": "code",
   "execution_count": 18,
   "id": "4adc534a",
   "metadata": {
    "code_folding": []
   },
   "outputs": [
    {
     "name": "stdout",
     "output_type": "stream",
     "text": [
      "Overwriting genotypeGen.py\n"
     ]
    }
   ],
   "source": [
    "%%writefile genotypeGen.py\n",
    "#!/usr/bin/python3\n",
    "\n",
    "import sys\n",
    "import re\n",
    "\n",
    "snpfile = sys.argv[1]\n",
    "gtfile = sys.argv[2]\n",
    "samplefile = sys.argv[3]\n",
    "outfile = sys.argv[4]\n",
    "\n",
    "\n",
    "snpfh = open(snpfile)\n",
    "snpPos2RSID = {}\n",
    "for line in snpfh:\n",
    "\tl = line.replace('\\n','').split('\\t')\n",
    "\tvarpos = '.'.join([l[1],l[3]])\n",
    "\tsnpPos2RSID[varpos] = l[0]\n",
    "\n",
    "\n",
    "samples = [x.strip().split('\\t')[0] for x in open(samplefile)]\n",
    "out = open(outfile,'w')\n",
    "gtfh = open(gtfile)\n",
    "for line in gtfh:\n",
    "\tl = re.split('\\s+',line.strip())\n",
    "\tvid = '.'.join(l[0:2])\n",
    "\trsid = snpPos2RSID[vid]\n",
    "\tfor idx,gt in enumerate(l[4:]):\n",
    "\t\tgtl = gt.split('/')\n",
    "\t\trefCount = str(gtl.count('0'))\n",
    "\t\tout.write('\\t'.join([rsid,samples[idx],refCount])+'\\n')\n",
    "gtfh.close()\n",
    "out.close()"
   ]
  },
  {
   "cell_type": "code",
   "execution_count": 19,
   "id": "1469b62b",
   "metadata": {
    "code_folding": []
   },
   "outputs": [
    {
     "name": "stdout",
     "output_type": "stream",
     "text": [
      "Overwriting genotypeExtract.py\n"
     ]
    }
   ],
   "source": [
    "%%writefile genotypeExtract.py\n",
    "#!/usr/bin/python3\n",
    "\n",
    "import sys\n",
    "import os\n",
    "import subprocess as sp\n",
    "\n",
    "snpfile = sys.argv[1]\n",
    "samplefile = sys.argv[2]\n",
    "bcfDir = sys.argv[3]\n",
    "sampleMasterFile = sys.argv[4]\n",
    "out = sys.argv[5]\n",
    "\n",
    "#generate snp position file for bcftools query\n",
    "CHR = [str(x+1) for x in range(22)]\n",
    "snpPos = {x:samplefile+'.snppos.'+x for x in CHR}\n",
    "snpPosOut = {x:open(snpPos[x],'w') for x in snpPos}\n",
    "snpfh = open(snpfile)\n",
    "for line in snpfh:\n",
    "\tl = line.replace('\\n','').split('\\t')\n",
    "\tsnpPosOut[l[1]].write('\\t'.join([l[1],l[3]])+'\\n')\n",
    "snpfh.close()\n",
    "for e in snpPosOut:\n",
    "\tsnpPosOut[e].close()\n",
    "\tprint(e,snpPos[e])\n",
    "##convert sample name to intID\n",
    "def SAM2ID(bcf_dir,samfile):\n",
    "    samples = [x.strip() for x in open(samfile)]\n",
    "    chr1bcf = os.path.join(bcf_dir,'chr1_SJLIFE_CCSS.GT.bcf.gz')\n",
    "    intID = sp.run('bcftools view -h ' + chr1bcf + '|grep \"#CHROM\"',shell=True,stdout=sp.PIPE).stdout.decode('utf-8').strip().split('\\t')[9:]\n",
    "    return dict(zip(samples,intID))\n",
    "\n",
    "id2name = SAM2ID(bcfDir,sampleMasterFile)\n",
    "samples = [x.strip().split('\\t')[0] for x in open(samplefile)]\n",
    "idsamples = [id2name[x] for x in samples]\n",
    "samout = open(samplefile+'.intid','w')\n",
    "for intsam in idsamples:\n",
    "\tsamout.write(intsam+'\\n')\n",
    "samout.close()\n",
    "\n",
    "for e in snpPos:\n",
    "\tchromsome = 'chr' + e\n",
    "\tbcffile = os.path.join(bcfDir,chromsome+'_SJLIFE_CCSS.GT.bcf.gz')\n",
    "\tos.system('bcftools query -S '+samplefile+'.intid -R '+snpPos[e]+' -o '+snpPos[e]+'.gt -f \"%CHROM\\t%POS\\t%REF\\t%ALT\\t[ %GT ]\\n\" '+bcffile)\n",
    "\tos.system('cat '+snpPos[e]+'.gt >>'+out)\n",
    "\tos.system('rm -f '+snpPos[e]+'.gt '+snpPos[e])\n",
    "    "
   ]
  },
  {
   "cell_type": "code",
   "execution_count": 4,
   "id": "d08060de",
   "metadata": {},
   "outputs": [
    {
     "name": "stdout",
     "output_type": "stream",
     "text": [
      "Writing genPCA.py\n"
     ]
    }
   ],
   "source": [
    "%%writefile genPCA.py\n",
    "#!/usr/bin/python3\n",
    "\n",
    "\n",
    "import sys\n",
    "import os\n",
    "import re\n",
    "import subprocess as sp\n",
    "\n",
    "\n",
    "def SAM2ID(bcf_dir,samfile):\n",
    "    samples = [x.strip() for x in open(samfile)]\n",
    "    chr1bcf = os.path.join(bcf_dir,'chr1_SJLIFE_CCSS.GT.bcf.gz')\n",
    "    intID = sp.run('bcftools view -h ' + chr1bcf + '|grep \"#CHROM\"',shell=True,stdout=sp.PIPE).stdout.decode('utf-8').strip().split('\\t')[9:]\n",
    "    return dict(zip(samples,intID))\n",
    "\n",
    "smartpcaOutFile = sys.argv[1]\n",
    "outFile = sys.argv[2]\n",
    "sampleMasterFile = sys.argv[3]\n",
    "bcfDir = sys.argv[4]\n",
    "\n",
    "id2name = SAM2ID(bcfDir,sampleMasterFile)\n",
    "fh = open(smartpcaOutFile)\n",
    "fh.readline()\n",
    "out = open(outFile,'w')\n",
    "\n",
    "for line in fh:\n",
    "\tl = re.split('\\s+', line.strip())\n",
    "\tsamID = id2name[l[0]]\n",
    "\tout.write('\\t'.join([samID]+l[1:-1])+'\\n')\n",
    "out.close()\n",
    "fh.close()"
   ]
  },
  {
   "cell_type": "code",
   "execution_count": null,
   "id": "d0818b28",
   "metadata": {},
   "outputs": [],
   "source": []
  }
 ],
 "metadata": {
  "kernelspec": {
   "display_name": "Python 3 (ipykernel)",
   "language": "python",
   "name": "python3"
  },
  "language_info": {
   "codemirror_mode": {
    "name": "ipython",
    "version": 3
   },
   "file_extension": ".py",
   "mimetype": "text/x-python",
   "name": "python",
   "nbconvert_exporter": "python",
   "pygments_lexer": "ipython3",
   "version": "3.9.9"
  }
 },
 "nbformat": 4,
 "nbformat_minor": 5
}
